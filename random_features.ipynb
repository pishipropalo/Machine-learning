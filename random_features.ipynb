{
  "cells": [
    {
      "cell_type": "markdown",
      "metadata": {
        "id": "RYp0bXOFK-hP"
      },
      "source": [
        "\n",
        "## Метод опорных векторов и аппроксимация ядер\n"
      ]
    },
    {
      "cell_type": "code",
      "execution_count": null,
      "metadata": {
        "id": "QAAjLVjE-ksa"
      },
      "outputs": [],
      "source": [
        "%load_ext autoreload\n",
        "%autoreload 2"
      ]
    },
    {
      "cell_type": "markdown",
      "metadata": {
        "id": "N_sGunb7K-hS"
      },
      "source": [
        "Данные -Fashion MNIST"
      ]
    },
    {
      "cell_type": "code",
      "execution_count": null,
      "metadata": {
        "colab": {
          "base_uri": "https://localhost:8080/"
        },
        "id": "YyG6dBfjK-hS",
        "outputId": "e235d05c-4e27-41be-f202-f9ad5e97c3d1"
      },
      "outputs": [
        {
          "name": "stdout",
          "output_type": "stream",
          "text": [
            "Downloading data from https://storage.googleapis.com/tensorflow/tf-keras-datasets/train-labels-idx1-ubyte.gz\n",
            "\u001b[1m29515/29515\u001b[0m \u001b[32m━━━━━━━━━━━━━━━━━━━━\u001b[0m\u001b[37m\u001b[0m \u001b[1m0s\u001b[0m 0us/step\n",
            "Downloading data from https://storage.googleapis.com/tensorflow/tf-keras-datasets/train-images-idx3-ubyte.gz\n",
            "\u001b[1m26421880/26421880\u001b[0m \u001b[32m━━━━━━━━━━━━━━━━━━━━\u001b[0m\u001b[37m\u001b[0m \u001b[1m2s\u001b[0m 0us/step\n",
            "Downloading data from https://storage.googleapis.com/tensorflow/tf-keras-datasets/t10k-labels-idx1-ubyte.gz\n",
            "\u001b[1m5148/5148\u001b[0m \u001b[32m━━━━━━━━━━━━━━━━━━━━\u001b[0m\u001b[37m\u001b[0m \u001b[1m0s\u001b[0m 1us/step\n",
            "Downloading data from https://storage.googleapis.com/tensorflow/tf-keras-datasets/t10k-images-idx3-ubyte.gz\n",
            "\u001b[1m4422102/4422102\u001b[0m \u001b[32m━━━━━━━━━━━━━━━━━━━━\u001b[0m\u001b[37m\u001b[0m \u001b[1m1s\u001b[0m 0us/step\n"
          ]
        }
      ],
      "source": [
        "import numpy as np\n",
        "\n",
        "# 1 Способ\n",
        "import keras\n",
        "from keras.datasets import fashion_mnist\n",
        "(x_train_pics, y_train), (x_test_pics, y_test) = fashion_mnist.load_data()\n",
        "\n",
        "# 2 Способ (если первый не работает)\n",
        "# from sklearn.datasets import fetch_openml\n",
        "# def load_fashion_mnist():\n",
        "#     X, y = fetch_openml('Fashion-MNIST', version=1, return_X_y=True, as_frame=False)\n",
        "#     X = X.reshape(-1, 28, 28).astype('uint8')\n",
        "#     y = y.astype('int64')\n",
        "#     x_train, x_test = X[:60000], X[60000:]\n",
        "#     y_train, y_test = y[:60000], y[60000:]\n",
        "#     return (x_train, y_train), (x_test, y_test)\n",
        "# (x_train_pics, y_train), (x_test_pics, y_test) = load_fashion_mnist()\n",
        "\n",
        "\n",
        "\n",
        "\n",
        "x_train = x_train_pics.reshape(y_train.shape[0], -1)\n",
        "x_test = x_test_pics.reshape(y_test.shape[0], -1)"
      ]
    },
    {
      "cell_type": "code",
      "execution_count": null,
      "metadata": {
        "colab": {
          "base_uri": "https://localhost:8080/"
        },
        "id": "mlnZeZZYL6MM",
        "outputId": "86f770e5-ef14-40c6-95ba-209751672ae3"
      },
      "outputs": [
        {
          "name": "stderr",
          "output_type": "stream",
          "text": [
            "/usr/local/lib/python3.11/dist-packages/sklearn/linear_model/_logistic.py:1256: FutureWarning: 'multi_class' was deprecated in version 1.5 and will be removed in 1.7. Use OneVsRestClassifier(LogisticRegression(..)) instead. Leave it to its default value to avoid this warning.\n",
            "  warnings.warn(\n",
            "/usr/local/lib/python3.11/dist-packages/sklearn/linear_model/_logistic.py:465: ConvergenceWarning: lbfgs failed to converge (status=1):\n",
            "STOP: TOTAL NO. of ITERATIONS REACHED LIMIT.\n",
            "\n",
            "Increase the number of iterations (max_iter) or scale the data as shown in:\n",
            "    https://scikit-learn.org/stable/modules/preprocessing.html\n",
            "Please also refer to the documentation for alternative solver options:\n",
            "    https://scikit-learn.org/stable/modules/linear_model.html#logistic-regression\n",
            "  n_iter_i = _check_optimize_result(\n"
          ]
        },
        {
          "name": "stdout",
          "output_type": "stream",
          "text": [
            "Точность: 0.8762\n"
          ]
        }
      ],
      "source": [
        "import numpy as np\n",
        "from sklearn.base import BaseEstimator, TransformerMixin\n",
        "from sklearn.decomposition import PCA\n",
        "from sklearn.linear_model import LogisticRegression\n",
        "from sklearn.pipeline import Pipeline\n",
        "from sklearn.svm import SVC\n",
        "from sklearn.utils.validation import check_X_y\n",
        "\n",
        "class RandomFeatureCreator(BaseEstimator, TransformerMixin):\n",
        "    def __init__(self, n_features=1000, new_dim=50, func=np.cos):\n",
        "        self.n_features = n_features\n",
        "        self.new_dim = new_dim\n",
        "        self.func = func\n",
        "        self.sigma2 = None\n",
        "        self.w = None\n",
        "        self.b = None\n",
        "\n",
        "    def fit(self, X, y=None):\n",
        "        X = X.copy()\n",
        "        n_samples = X.shape[0]\n",
        "        max_pairs = 10**6\n",
        "        subset_size = int(np.sqrt(2 * max_pairs)) + 1\n",
        "        subset_size = min(subset_size, n_samples)\n",
        "        indices = np.random.choice(n_samples, size=subset_size, replace=False)\n",
        "        X_subset = X[indices]\n",
        "\n",
        "        diff = X_subset[:, None, :] - X_subset[None, :, :]\n",
        "        squared_dist = np.sum(diff**2, axis=-1)\n",
        "        triu_indices = np.triu_indices_from(squared_dist, k=1)\n",
        "        distances = squared_dist[triu_indices]\n",
        "        self.sigma2 = np.median(distances)\n",
        "\n",
        "        d = X.shape[1]\n",
        "        self.w = np.random.normal(loc=0, scale=np.sqrt(1/self.sigma2), size=(self.n_features, d))\n",
        "        self.b = np.random.uniform(low=-np.pi, high=np.pi, size=self.n_features)\n",
        "        return self\n",
        "\n",
        "    def transform(self, X, y=None):\n",
        "        projections = np.dot(X, self.w.T) + self.b\n",
        "        return self.func(projections)\n",
        "\n",
        "class RFFPipeline(BaseEstimator):\n",
        "    def __init__(\n",
        "        self,\n",
        "        n_features=1000,\n",
        "        new_dim=50,\n",
        "        use_PCA=True,\n",
        "        feature_creator_class=RandomFeatureCreator,\n",
        "        classifier_class=LogisticRegression,\n",
        "        classifier_params=None,\n",
        "    ):\n",
        "        self.n_features = n_features\n",
        "        self.new_dim = new_dim\n",
        "        self.use_PCA = use_PCA\n",
        "        self.feature_creator_class = feature_creator_class\n",
        "        self.classifier_class = classifier_class\n",
        "        self.classifier_params = classifier_params or {}\n",
        "        self.pipeline = None\n",
        "\n",
        "    def fit(self, X, y):\n",
        "        pipeline_steps = []\n",
        "        if self.use_PCA:\n",
        "            pipeline_steps.append(('pca', PCA(n_components=self.new_dim)))\n",
        "        pipeline_steps.append(('rff', self.feature_creator_class(n_features=self.n_features)))\n",
        "        pipeline_steps.append(('clf', self.classifier_class(**self.classifier_params)))\n",
        "        self.pipeline = Pipeline(pipeline_steps)\n",
        "        self.pipeline.fit(X, y)\n",
        "        return self\n",
        "\n",
        "    def predict_proba(self, X):\n",
        "        return self.pipeline.predict_proba(X)\n",
        "\n",
        "    def predict(self, X):\n",
        "        return self.pipeline.predict(X)\n",
        "\n",
        "import keras\n",
        "from keras.datasets import fashion_mnist\n",
        "\n",
        "(x_train_pics, y_train), (x_test_pics, y_test) = fashion_mnist.load_data()\n",
        "x_train = x_train_pics.reshape(-1, 28*28) / 255.0\n",
        "x_test = x_test_pics.reshape(-1, 28*28) / 255.0\n",
        "\n",
        "pipeline = RFFPipeline(\n",
        "    classifier_params={'max_iter': 200, 'random_state': 42, 'multi_class': 'ovr', 'solver': 'lbfgs'}\n",
        ")\n",
        "pipeline.fit(x_train, y_train)\n",
        "\n",
        "from sklearn.metrics import accuracy_score\n",
        "\n",
        "y_pred = pipeline.predict(x_test)\n",
        "accuracy = accuracy_score(y_test, y_pred)\n",
        "print(f'Точность: {accuracy:.4f}')"
      ]
    },
    {
      "cell_type": "code",
      "execution_count": null,
      "metadata": {
        "colab": {
          "base_uri": "https://localhost:8080/"
        },
        "id": "qN8LUlJgK-hV",
        "outputId": "bb19f894-a1b6-49cc-e3d4-aa3e8198db92"
      },
      "outputs": [
        {
          "name": "stdout",
          "output_type": "stream",
          "text": [
            "Линейный SVM: Точность = 0.8464, Время обучения = 621.16 сек\n"
          ]
        }
      ],
      "source": [
        "from sklearn.svm import SVC\n",
        "from sklearn.metrics import accuracy_score\n",
        "import time\n",
        "\n",
        "start_time = time.time()\n",
        "linear_svm = SVC(kernel='linear', random_state=42)\n",
        "linear_svm.fit(x_train, y_train)\n",
        "y_pred_linear_svm = linear_svm.predict(x_test)\n",
        "linear_svm_accuracy = accuracy_score(y_test, y_pred_linear_svm)\n",
        "linear_svm_time = time.time() - start_time\n",
        "\n",
        "print(f'Линейный SVM: Точность = {linear_svm_accuracy:.4f}, Время обучения = {linear_svm_time:.2f} сек')"
      ]
    },
    {
      "cell_type": "code",
      "execution_count": null,
      "metadata": {
        "colab": {
          "base_uri": "https://localhost:8080/"
        },
        "id": "Seq4U9jgWGmM",
        "outputId": "a4353f6c-5dc0-4979-9811-f70741a26807"
      },
      "outputs": [
        {
          "name": "stdout",
          "output_type": "stream",
          "text": [
            "LinearSVC: Точность = 0.8402, Время обучения = 145.76 сек\n"
          ]
        }
      ],
      "source": [
        "from sklearn.svm import LinearSVC\n",
        "from sklearn.metrics import accuracy_score\n",
        "import time\n",
        "\n",
        "start_time = time.time()\n",
        "linear_svm = LinearSVC(random_state=42, max_iter=1000)\n",
        "linear_svm.fit(x_train, y_train)\n",
        "y_pred_linear_svm = linear_svm.predict(x_test)\n",
        "linear_svm_accuracy = accuracy_score(y_test, y_pred_linear_svm)\n",
        "linear_svm_time = time.time() - start_time\n",
        "\n",
        "print(f'LinearSVC: Точность = {linear_svm_accuracy:.4f}, Время обучения = {linear_svm_time:.2f} сек')"
      ]
    },
    {
      "cell_type": "code",
      "execution_count": null,
      "metadata": {
        "colab": {
          "base_uri": "https://localhost:8080/"
        },
        "id": "Bz2w3WuAVRLu",
        "outputId": "a39b6c45-f073-4021-e311-a3229e50a562"
      },
      "outputs": [
        {
          "name": "stdout",
          "output_type": "stream",
          "text": [
            "Ядровой SVM (RBF): Точность = 0.8524, Время обучения = 60.56 сек\n"
          ]
        }
      ],
      "source": [
        "\n",
        "subset_size = 10000\n",
        "indices = np.random.choice(len(x_train), subset_size, replace=False)\n",
        "x_train_subset = x_train[indices]\n",
        "y_train_subset = y_train[indices]\n",
        "\n",
        "start_time = time.time()\n",
        "rbf_svm = SVC(kernel='rbf', random_state=42)\n",
        "rbf_svm.fit(x_train_subset, y_train_subset)\n",
        "y_pred_rbf_svm = rbf_svm.predict(x_test)\n",
        "rbf_svm_accuracy = accuracy_score(y_test, y_pred_rbf_svm)\n",
        "rbf_svm_time = time.time() - start_time\n",
        "\n",
        "print(f'Ядровой SVM (RBF): Точность = {rbf_svm_accuracy:.4f}, Время обучения = {rbf_svm_time:.2f} сек')"
      ]
    },
    {
      "cell_type": "code",
      "execution_count": null,
      "metadata": {
        "colab": {
          "base_uri": "https://localhost:8080/"
        },
        "id": "cUeX7IM7UMfl",
        "outputId": "1577c882-987e-4585-d750-089be014bc36"
      },
      "outputs": [
        {
          "name": "stderr",
          "output_type": "stream",
          "text": [
            "/usr/local/lib/python3.11/dist-packages/dask/dataframe/__init__.py:42: FutureWarning: \n",
            "Dask dataframe query planning is disabled because dask-expr is not installed.\n",
            "\n",
            "You can install it with `pip install dask[dataframe]` or `conda install dask`.\n",
            "This will raise in a future version.\n",
            "\n",
            "  warnings.warn(msg, FutureWarning)\n",
            "/usr/local/lib/python3.11/dist-packages/sklearn/utils/deprecation.py:151: FutureWarning: 'force_all_finite' was renamed to 'ensure_all_finite' in 1.6 and will be removed in 1.8.\n",
            "  warnings.warn(\n"
          ]
        },
        {
          "name": "stdout",
          "output_type": "stream",
          "text": [
            "[LightGBM] [Info] Auto-choosing col-wise multi-threading, the overhead of testing was 0.095071 seconds.\n",
            "You can set `force_col_wise=true` to remove the overhead.\n",
            "[LightGBM] [Info] Total Bins 12750\n",
            "[LightGBM] [Info] Number of data points in the train set: 60000, number of used features: 50\n",
            "[LightGBM] [Info] Start training from score -2.302585\n",
            "[LightGBM] [Info] Start training from score -2.302585\n",
            "[LightGBM] [Info] Start training from score -2.302585\n",
            "[LightGBM] [Info] Start training from score -2.302585\n",
            "[LightGBM] [Info] Start training from score -2.302585\n",
            "[LightGBM] [Info] Start training from score -2.302585\n",
            "[LightGBM] [Info] Start training from score -2.302585\n",
            "[LightGBM] [Info] Start training from score -2.302585\n",
            "[LightGBM] [Info] Start training from score -2.302585\n",
            "[LightGBM] [Info] Start training from score -2.302585\n"
          ]
        },
        {
          "name": "stderr",
          "output_type": "stream",
          "text": [
            "/usr/local/lib/python3.11/dist-packages/sklearn/utils/deprecation.py:151: FutureWarning: 'force_all_finite' was renamed to 'ensure_all_finite' in 1.6 and will be removed in 1.8.\n",
            "  warnings.warn(\n"
          ]
        },
        {
          "name": "stdout",
          "output_type": "stream",
          "text": [
            "LightGBM с PCA: Точность = 0.8684, Время обучения = 30.53 сек\n"
          ]
        }
      ],
      "source": [
        "from sklearn.decomposition import PCA\n",
        "from lightgbm import LGBMClassifier\n",
        "\n",
        "pca = PCA(n_components=50)\n",
        "x_train_pca = pca.fit_transform(x_train)\n",
        "x_test_pca = pca.transform(x_test)\n",
        "\n",
        "start_time = time.time()\n",
        "lgbm = LGBMClassifier(random_state=42)\n",
        "lgbm.fit(x_train_pca, y_train)\n",
        "y_pred_lgbm = lgbm.predict(x_test_pca)\n",
        "lgbm_accuracy = accuracy_score(y_test, y_pred_lgbm)\n",
        "lgbm_time = time.time() - start_time\n",
        "\n",
        "print(f'LightGBM с PCA: Точность = {lgbm_accuracy:.4f}, Время обучения = {lgbm_time:.2f} сек')"
      ]
    },
    {
      "cell_type": "code",
      "execution_count": null,
      "metadata": {
        "colab": {
          "base_uri": "https://localhost:8080/"
        },
        "id": "sLLth2yHAdI6",
        "outputId": "535eaf43-0896-4229-dff2-c05bbbcdd77e"
      },
      "outputs": [
        {
          "name": "stderr",
          "output_type": "stream",
          "text": [
            "/usr/local/lib/python3.11/dist-packages/sklearn/linear_model/_logistic.py:1256: FutureWarning: 'multi_class' was deprecated in version 1.5 and will be removed in 1.7. Use OneVsRestClassifier(LogisticRegression(..)) instead. Leave it to its default value to avoid this warning.\n",
            "  warnings.warn(\n",
            "/usr/local/lib/python3.11/dist-packages/sklearn/linear_model/_logistic.py:465: ConvergenceWarning: lbfgs failed to converge (status=1):\n",
            "STOP: TOTAL NO. of ITERATIONS REACHED LIMIT.\n",
            "\n",
            "Increase the number of iterations (max_iter) or scale the data as shown in:\n",
            "    https://scikit-learn.org/stable/modules/preprocessing.html\n",
            "Please also refer to the documentation for alternative solver options:\n",
            "    https://scikit-learn.org/stable/modules/linear_model.html#logistic-regression\n",
            "  n_iter_i = _check_optimize_result(\n"
          ]
        },
        {
          "name": "stdout",
          "output_type": "stream",
          "text": [
            "RFF: Точность = 0.8746, Время обучения = 213.39 сек\n"
          ]
        }
      ],
      "source": [
        "\n",
        "start_time = time.time()\n",
        "pipeline = RFFPipeline(\n",
        "    classifier_params={'max_iter': 200, 'random_state': 42, 'multi_class': 'ovr', 'solver': 'lbfgs'}\n",
        ")\n",
        "pipeline.fit(x_train, y_train)\n",
        "y_pred_rff = pipeline.predict(x_test)\n",
        "rff_accuracy = accuracy_score(y_test, y_pred_rff)\n",
        "rff_time = time.time() - start_time\n",
        "\n",
        "print(f'RFF: Точность = {rff_accuracy:.4f}, Время обучения = {rff_time:.2f} сек')"
      ]
    },
    {
      "cell_type": "markdown",
      "metadata": {
        "id": "nAhag_jtcOHv"
      },
      "source": [
        "Таким образом, получилось:\n",
        "\n",
        "\n",
        "**Линейный SVM**\t - Долго обучается, качество  невысокое. LinearSVC — быстрее, но ещё ниже точность.\n",
        "\n",
        "**Ядерный SVM** на 10k объектов - \tЛучше линейного SVM, но приходится урезать выборку, иначе обучение займет слишком много времени.\n",
        "\n",
        "**LightGBM + PCA** - Очень быстрая модель с хорошей точностью, удачный компромисс между скоростью и качеством.\n",
        "\n",
        "**RFF + Logistic Regression**\t- Самое высокое качество среди моделей, но обучается медленнее, чем бустинг.\n",
        "\n",
        "\n"
      ]
    },
    {
      "cell_type": "markdown",
      "metadata": {
        "id": "e6umjhWuK-hV"
      },
      "source": [
        "Эксперименты:\n",
        "1.  PCA\n",
        "2.  n_features\n",
        "3.  логист или SVM"
      ]
    },
    {
      "cell_type": "code",
      "execution_count": 7,
      "metadata": {
        "id": "ybaqsY5shVhk"
      },
      "outputs": [],
      "source": [
        "import time\n",
        "from sklearn.metrics import accuracy_score\n",
        "import numpy as np\n",
        "from sklearn.base import BaseEstimator, TransformerMixin\n",
        "from sklearn.decomposition import PCA\n",
        "from sklearn.linear_model import LogisticRegression\n",
        "from sklearn.pipeline import Pipeline\n",
        "from sklearn.svm import SVC\n",
        "from sklearn.utils.validation import check_X_y\n",
        "from scipy.sparse import csr_matrix\n",
        "\n",
        "class RandomFeatureCreator(BaseEstimator, TransformerMixin):\n",
        "    def __init__(self, n_features=1000, new_dim=50, func=np.cos):\n",
        "        self.n_features = n_features\n",
        "        self.new_dim = new_dim\n",
        "        self.func = func\n",
        "        self.sigma2 = None\n",
        "        self.w = None\n",
        "        self.b = None\n",
        "\n",
        "    def fit(self, X, y=None):\n",
        "        X = X.copy()\n",
        "        n_samples = X.shape[0]\n",
        "        max_pairs = 10**6\n",
        "        subset_size = int(np.sqrt(2 * max_pairs)) + 1\n",
        "        subset_size = min(subset_size, n_samples)\n",
        "        indices = np.random.choice(n_samples, size=subset_size, replace=False)\n",
        "        X_subset = X[indices]\n",
        "\n",
        "        diff = X_subset[:, None, :] - X_subset[None, :, :]\n",
        "        squared_dist = np.sum(diff**2, axis=-1)\n",
        "        triu_indices = np.triu_indices_from(squared_dist, k=1)\n",
        "        distances = squared_dist[triu_indices]\n",
        "        self.sigma2 = np.median(distances)\n",
        "\n",
        "        d = X.shape[1]\n",
        "        self.w = np.random.normal(loc=0, scale=np.sqrt(1/self.sigma2), size=(self.n_features, d))\n",
        "        self.b = np.random.uniform(low=-np.pi, high=np.pi, size=self.n_features)\n",
        "        return self\n",
        "\n",
        "    def transform(self, X, y=None):\n",
        "        projections = np.dot(X, self.w.T) + self.b\n",
        "        return self.func(projections)\n",
        "\n",
        "class RFFPipeline(BaseEstimator):\n",
        "    def __init__(\n",
        "        self,\n",
        "        n_features=1000,\n",
        "        new_dim=50,\n",
        "        use_PCA=True,\n",
        "        feature_creator_class=RandomFeatureCreator,\n",
        "        classifier_class=LogisticRegression,\n",
        "        classifier_params=None,\n",
        "    ):\n",
        "        self.n_features = n_features\n",
        "        self.new_dim = new_dim\n",
        "        self.use_PCA = use_PCA\n",
        "        self.feature_creator_class = feature_creator_class\n",
        "        self.classifier_class = classifier_class\n",
        "        self.classifier_params = classifier_params or {}\n",
        "        self.pipeline = None\n",
        "\n",
        "    def fit(self, X, y):\n",
        "        pipeline_steps = []\n",
        "        if self.use_PCA:\n",
        "            pipeline_steps.append(('pca', PCA(n_components=self.new_dim)))\n",
        "        pipeline_steps.append(('rff', self.feature_creator_class(n_features=self.n_features)))\n",
        "        pipeline_steps.append(('clf', self.classifier_class(**self.classifier_params)))\n",
        "        self.pipeline = Pipeline(pipeline_steps)\n",
        "        self.pipeline.fit(X, y)\n",
        "        return self\n",
        "\n",
        "    def predict_proba(self, X):\n",
        "        return self.pipeline.predict_proba(X)\n",
        "\n",
        "    def predict(self, X):\n",
        "        return self.pipeline.predict(X)\n",
        "\n",
        "import keras\n",
        "from keras.datasets import fashion_mnist\n",
        "\n",
        "(x_train_pics, y_train), (x_test_pics, y_test) = fashion_mnist.load_data()\n",
        "x_train = x_train_pics.reshape(-1, 28*28) / 255.0\n",
        "x_test = x_test_pics.reshape(-1, 28*28) / 255.0"
      ]
    },
    {
      "cell_type": "code",
      "execution_count": null,
      "metadata": {
        "colab": {
          "base_uri": "https://localhost:8080/"
        },
        "id": "C-euG8Zci-9J",
        "outputId": "32b9b654-af6e-410b-b3ba-c6c55459e0d0"
      },
      "outputs": [
        {
          "name": "stderr",
          "output_type": "stream",
          "text": [
            "/usr/local/lib/python3.11/dist-packages/sklearn/linear_model/_logistic.py:465: ConvergenceWarning: lbfgs failed to converge (status=1):\n",
            "STOP: TOTAL NO. of ITERATIONS REACHED LIMIT.\n",
            "\n",
            "Increase the number of iterations (max_iter) or scale the data as shown in:\n",
            "    https://scikit-learn.org/stable/modules/preprocessing.html\n",
            "Please also refer to the documentation for alternative solver options:\n",
            "    https://scikit-learn.org/stable/modules/linear_model.html#logistic-regression\n",
            "  n_iter_i = _check_optimize_result(\n"
          ]
        },
        {
          "name": "stdout",
          "output_type": "stream",
          "text": [
            "С PCA: Точность = 0.8664, Время обучения = 124.06 сек\n"
          ]
        }
      ],
      "source": [
        "# С PCA\n",
        "pipeline = RFFPipeline(\n",
        "    use_PCA=True,\n",
        "    classifier_class=LogisticRegression,\n",
        "    classifier_params={'max_iter': 200, 'random_state': 42}\n",
        ")\n",
        "start_time = time.time()\n",
        "pipeline.fit(x_train, y_train)\n",
        "y_pred_pca = pipeline.predict(x_test)\n",
        "accuracy_pca = accuracy_score(y_test, y_pred_pca)\n",
        "time_pca = time.time() - start_time\n",
        "print(f'С PCA: Точность = {accuracy_pca:.4f}, Время обучения = {time_pca:.2f} сек')\n"
      ]
    },
    {
      "cell_type": "code",
      "execution_count": null,
      "metadata": {
        "colab": {
          "base_uri": "https://localhost:8080/"
        },
        "id": "HXvsyuvQw5uy",
        "outputId": "527e7b3a-1be5-4ba4-edcc-4ec663c220ea"
      },
      "outputs": [
        {
          "name": "stdout",
          "output_type": "stream",
          "text": [
            "Без PCA: Точность = 0.7958, Время обучения = 6.53 сек\n"
          ]
        }
      ],
      "source": [
        "x_train = x_train.astype(np.float32)\n",
        "x_test = x_test.astype(np.float32)\n",
        "\n",
        "subset_size = 1000\n",
        "indices = np.random.choice(len(x_train), subset_size, replace=False)\n",
        "x_train_subset = x_train[indices]\n",
        "y_train_subset = y_train[indices]\n",
        "\n",
        "# Без PCA только на подмножестве\n",
        "pipeline_no_pca = RFFPipeline(\n",
        "    use_PCA=False,\n",
        "    n_features=1000,\n",
        "    classifier_class=LogisticRegression,\n",
        "    classifier_params={'max_iter': 200, 'random_state': 42}\n",
        ")\n",
        "start_time = time.time()\n",
        "# import psutil\n",
        "\n",
        "# print(f'Использование памяти перед fit: {psutil.virtual_memory().available / (1024 ** 3):.2f} ГБ')\n",
        "pipeline_no_pca.fit(x_train_subset, y_train_subset)\n",
        "# print(f'Использование памяти после fit: {psutil.virtual_memory().available / (1024 ** 3):.2f} ГБ')\n",
        "\n",
        "y_pred_no_pca = pipeline_no_pca.predict(x_test)\n",
        "accuracy_no_pca = accuracy_score(y_test, y_pred_no_pca)\n",
        "time_no_pca = time.time() - start_time\n",
        "print(f'Без PCA: Точность = {accuracy_no_pca:.4f}, Время обучения = {time_no_pca:.2f} сек')"
      ]
    },
    {
      "cell_type": "markdown",
      "metadata": {
        "id": "TeFoIoktf2GV"
      },
      "source": [
        "Без PCA модель не работала на полном наборе данных из-за вычислительной сложности. Пришлось обучать на ограниченном подмножестве, с РСА, который снижал размерность данных таких трудностей не возникло. Качество  с РСА тоже выше."
      ]
    },
    {
      "cell_type": "code",
      "execution_count": null,
      "metadata": {
        "colab": {
          "base_uri": "https://localhost:8080/"
        },
        "id": "sNJnFhTvhsPJ",
        "outputId": "98fc9b38-0c24-4ab5-88f4-9d2db92a0023"
      },
      "outputs": [
        {
          "name": "stdout",
          "output_type": "stream",
          "text": [
            "n_features = 10, Точность = 0.6127,  Время обучения = 7.11 сек\n",
            "n_features = 50, Точность = 0.8147,  Время обучения = 18.96 сек\n",
            "n_features = 100, Точность = 0.8402,  Время обучения = 38.89 сек\n",
            "n_features = 200, Точность = 0.8558,  Время обучения = 49.21 сек\n",
            "n_features = 500, Точность = 0.8726,  Время обучения = 165.26 сек\n"
          ]
        },
        {
          "name": "stderr",
          "output_type": "stream",
          "text": [
            "/usr/local/lib/python3.11/dist-packages/sklearn/linear_model/_logistic.py:465: ConvergenceWarning: lbfgs failed to converge (status=1):\n",
            "STOP: TOTAL NO. of ITERATIONS REACHED LIMIT.\n",
            "\n",
            "Increase the number of iterations (max_iter) or scale the data as shown in:\n",
            "    https://scikit-learn.org/stable/modules/preprocessing.html\n",
            "Please also refer to the documentation for alternative solver options:\n",
            "    https://scikit-learn.org/stable/modules/linear_model.html#logistic-regression\n",
            "  n_iter_i = _check_optimize_result(\n"
          ]
        },
        {
          "name": "stdout",
          "output_type": "stream",
          "text": [
            "n_features = 1000, Точность = 0.8767,  Время обучения = 482.83 сек\n"
          ]
        },
        {
          "name": "stderr",
          "output_type": "stream",
          "text": [
            "/usr/local/lib/python3.11/dist-packages/sklearn/linear_model/_logistic.py:465: ConvergenceWarning: lbfgs failed to converge (status=1):\n",
            "STOP: TOTAL NO. of ITERATIONS REACHED LIMIT.\n",
            "\n",
            "Increase the number of iterations (max_iter) or scale the data as shown in:\n",
            "    https://scikit-learn.org/stable/modules/preprocessing.html\n",
            "Please also refer to the documentation for alternative solver options:\n",
            "    https://scikit-learn.org/stable/modules/linear_model.html#logistic-regression\n",
            "  n_iter_i = _check_optimize_result(\n"
          ]
        },
        {
          "name": "stdout",
          "output_type": "stream",
          "text": [
            "n_features = 1500, Точность = 0.8784,  Время обучения = 640.75 сек\n"
          ]
        },
        {
          "name": "stderr",
          "output_type": "stream",
          "text": [
            "/usr/local/lib/python3.11/dist-packages/sklearn/linear_model/_logistic.py:465: ConvergenceWarning: lbfgs failed to converge (status=1):\n",
            "STOP: TOTAL NO. of ITERATIONS REACHED LIMIT.\n",
            "\n",
            "Increase the number of iterations (max_iter) or scale the data as shown in:\n",
            "    https://scikit-learn.org/stable/modules/preprocessing.html\n",
            "Please also refer to the documentation for alternative solver options:\n",
            "    https://scikit-learn.org/stable/modules/linear_model.html#logistic-regression\n",
            "  n_iter_i = _check_optimize_result(\n"
          ]
        },
        {
          "name": "stdout",
          "output_type": "stream",
          "text": [
            "n_features = 2000, Точность = 0.8836,  Время обучения = 940.33 сек\n"
          ]
        }
      ],
      "source": [
        "import matplotlib.pyplot as plt\n",
        "\n",
        "\n",
        "n_features_values = [10, 50, 100, 200, 500, 1000, 1500, 2000]\n",
        "accuracies = []\n",
        "\n",
        "for n_feat in n_features_values:\n",
        "    model = RFFPipeline(n_features=n_feat, classifier_class=LogisticRegression, classifier_params={'max_iter': 1000, 'random_state': 42})\n",
        "\n",
        "    start_time = time.time()\n",
        "    model.fit(x_train, y_train)\n",
        "    y_pred = model.predict(x_test)\n",
        "    acc = accuracy_score(y_test, y_pred)\n",
        "    accuracies.append(acc)\n",
        "\n",
        "    print(f\"n_features = {n_feat}, Точность = {acc:.4f},  Время обучения = {time.time() - start_time:.2f} сек\")\n"
      ]
    },
    {
      "cell_type": "code",
      "execution_count": null,
      "metadata": {
        "colab": {
          "base_uri": "https://localhost:8080/",
          "height": 564
        },
        "id": "QvnegDZO8ww1",
        "outputId": "b85f2a95-e6a0-43a7-a222-7bb4625f64ce"
      },
      "outputs": [
        {
          "data": {
            "image/png": "[encoded data removed]",
            "text/plain": [
              "<Figure size 1000x600 with 1 Axes>"
            ]
          },
          "metadata": {},
          "output_type": "display_data"
        }
      ],
      "source": [
        "\n",
        "plt.figure(figsize=(10, 6))\n",
        "plt.plot(n_features_values, accuracies, marker='o', linestyle='-')\n",
        "plt.xlabel(\"n_features)\")\n",
        "plt.ylabel(\"Accuracy\")\n",
        "plt.title(\"Accuracy vs. Number of Random Features\")\n",
        "\n",
        "plt.grid(True)\n",
        "plt.show()\n"
      ]
    },
    {
      "cell_type": "markdown",
      "metadata": {
        "id": "nfcXP93_gTPb"
      },
      "source": [
        "Точность модели увеличивается с ростом числа признаков, но начиная с n_features = 500, прирост точности становится незначительным (выходит на плато), но значительно увеличивается время обучения."
      ]
    },
    {
      "cell_type": "code",
      "execution_count": null,
      "metadata": {
        "colab": {
          "base_uri": "https://localhost:8080/"
        },
        "id": "lldP9kDqE75Q",
        "outputId": "60e0ccc3-f2fe-40b9-89ac-efd7aa7aaed4"
      },
      "outputs": [
        {
          "name": "stdout",
          "output_type": "stream",
          "text": [
            "SVM Accuracy: 0.8640,  Время обучения: 94.85 сек\n"
          ]
        }
      ],
      "source": [
        "\n",
        "rff_svm = RFFPipeline(n_features=200, classifier_class=SVC, classifier_params={\"kernel\": \"linear\", \"random_state\": 42})\n",
        "\n",
        "start_time = time.time()\n",
        "rff_svm.fit(x_train, y_train)\n",
        "svm_time = time.time() - start_time\n",
        "\n",
        "y_pred_svm = rff_svm.predict(x_test)\n",
        "\n",
        "\n",
        "accuracy_svm = accuracy_score(y_test, y_pred_svm)\n",
        "\n",
        "print(f\"SVM Accuracy: {accuracy_svm:.4f},  Время обучения: {svm_time:.2f} сек\")"
      ]
    },
    {
      "cell_type": "markdown",
      "metadata": {
        "id": "UuCXOXNng43i"
      },
      "source": [
        "При логистической регрессии было:\n",
        "n_features = 200, Точность = 0.8558,  Время обучения = 49.21 сек"
      ]
    },
    {
      "cell_type": "code",
      "execution_count": null,
      "metadata": {
        "colab": {
          "base_uri": "https://localhost:8080/"
        },
        "id": "uUGlY4rcT7Ku",
        "outputId": "d31b9337-963b-4005-8d13-0dc4e05787f1"
      },
      "outputs": [
        {
          "name": "stdout",
          "output_type": "stream",
          "text": [
            "SVM Accuracy: 0.8755,  Время обучения: 234.13 сек\n"
          ]
        }
      ],
      "source": [
        "\n",
        "rff_svm = RFFPipeline(n_features=500, classifier_class=SVC, classifier_params={\"kernel\": \"linear\", \"random_state\": 42})\n",
        "\n",
        "start_time = time.time()\n",
        "rff_svm.fit(x_train, y_train)\n",
        "svm_time = time.time() - start_time\n",
        "\n",
        "y_pred_svm = rff_svm.predict(x_test)\n",
        "\n",
        "\n",
        "accuracy_svm = accuracy_score(y_test, y_pred_svm)\n",
        "\n",
        "print(f\"SVM Accuracy: {accuracy_svm:.4f},  Время обучения: {svm_time:.2f} сек\")"
      ]
    },
    {
      "cell_type": "markdown",
      "metadata": {
        "id": "W7uz_RUShG1i"
      },
      "source": [
        "При логистической регрессии было: n_features = 500, Точность = 0.8726,  Время обучения = 165.26 сек\n",
        "\n",
        "\n",
        "Таким образом, логистическая регрессия рабртает быстрее, но немного уступает в качестве"
      ]
    },
    {
      "cell_type": "markdown",
      "metadata": {
        "id": "QVDWHCdrK-hX"
      },
      "source": [
        "**ORF**"
      ]
    },
    {
      "cell_type": "code",
      "execution_count": 8,
      "metadata": {
        "colab": {
          "base_uri": "https://localhost:8080/"
        },
        "id": "TCed-2mIWb6a",
        "outputId": "7c2162eb-832f-45c7-aaf4-e5e0f4c08343"
      },
      "outputs": [
        {
          "name": "stdout",
          "output_type": "stream",
          "text": [
            "Correct ORF Accuracy: 0.8228\n"
          ]
        }
      ],
      "source": [
        "import numpy as np\n",
        "from sklearn.base import BaseEstimator, TransformerMixin\n",
        "from sklearn.decomposition import PCA\n",
        "from sklearn.pipeline import Pipeline\n",
        "from sklearn.linear_model import LogisticRegression\n",
        "from sklearn.metrics import accuracy_score\n",
        "from scipy.linalg import hadamard\n",
        "from keras.datasets import fashion_mnist\n",
        "\n",
        "class CorrectORF(BaseEstimator, TransformerMixin):\n",
        "    def __init__(self, n_features=1000, gamma=None):\n",
        "        self.n_features = n_features\n",
        "        self.gamma = gamma\n",
        "    def fit(self, X, y=None):\n",
        "        if self.gamma is None:\n",
        "            n_samples = X.shape[0]\n",
        "            subset_size = min(1000, n_samples)\n",
        "            X_subset = X[np.random.choice(n_samples, subset_size, replace=False)]\n",
        "\n",
        "            dists = np.sum((X_subset[:, None, :] - X_subset[None, :, :])**2, axis=2)\n",
        "            self.gamma = 1.0 / np.median(dists[np.triu_indices_from(dists, k=1)])\n",
        "\n",
        "        d = X.shape[1]\n",
        "        self.W_ = self._generate_orthogonal_weights(d)\n",
        "        self.b_ = np.random.uniform(0, 2*np.pi, size=self.n_features)\n",
        "        return self\n",
        "\n",
        "    def _generate_orthogonal_weights(self, d):\n",
        "        n_blocks = int(np.ceil(self.n_features / d))\n",
        "        blocks = []\n",
        "\n",
        "        for _ in range(n_blocks):\n",
        "            H = hadamard(d)\n",
        "            D1 = np.diag(np.random.choice([-1,1], d))\n",
        "            D2 = np.diag(np.random.choice([-1,1], d))\n",
        "            D3 = np.diag(np.random.choice([-1,1], d))\n",
        "\n",
        "            W_block = H @ D1 @ D2 @ D3\n",
        "            blocks.append(W_block.T)\n",
        "\n",
        "        W = np.vstack(blocks)[:self.n_features, :]\n",
        "        return W * np.sqrt(2 * self.gamma)\n",
        "    def transform(self, X):\n",
        "        proj = X @ self.W_.T\n",
        "        return np.sqrt(2.0 / self.n_features) * np.cos(proj + self.b_)\n",
        "\n",
        "n_features = 1000\n",
        "power_of_two_dim = 512\n",
        "\n",
        "\n",
        "orf_pipe = Pipeline([\n",
        "    ('pca', PCA(n_components=power_of_two_dim)),\n",
        "    ('orf', CorrectORF(n_features=n_features)),\n",
        "    ('clf', LogisticRegression(max_iter=500))\n",
        "])\n",
        "\n",
        "(x_train, y_train), (x_test, y_test) = fashion_mnist.load_data()\n",
        "x_train = x_train.reshape(-1, 784)[:10000]/255.0\n",
        "y_train = y_train[:10000]\n",
        "\n",
        "orf_pipe.fit(x_train, y_train)\n",
        "orf_acc = accuracy_score(y_test, orf_pipe.predict(x_test.reshape(-1, 784)/255.0))\n",
        "\n",
        "print(f\"Correct ORF Accuracy: {orf_acc:.4f}\")"
      ]
    },
    {
      "cell_type": "markdown",
      "metadata": {
        "id": "1ZQnE4JPiSb2"
      },
      "source": [
        "Точность ORF получилась ниже RFF"
      ]
    },
    {
      "cell_type": "markdown",
      "metadata": {
        "id": "_fx2JsiM-ksj"
      },
      "source": [
        "\n",
        "\n",
        "___Выведите градиент:___\n",
        "\n",
        "\n",
        "\n",
        "$$\n",
        "\\frac{1}{2} \\| K w - y \\|^2 = \\frac{1}{2} (K w - y)^T (K w - y).\n",
        "$$\n",
        "дифференцируем по \\( w \\):\n",
        "$$\n",
        "\\nabla_w \\left( \\frac{1}{2} \\| K w - y \\|^2 \\right) = K^T (K w - y).\n",
        "$$\n",
        " \\( K^T = K \\), тк К симметрична\n",
        "$$\n",
        "\\nabla_w \\left( \\frac{1}{2} \\| K w - y \\|^2 \\right) = K (K w - y).\n",
        "$$\n",
        "\n",
        "\n",
        "$$\n",
        "\\frac{\\lambda}{2} w^T K w.\n",
        "$$\n",
        "\n",
        "$$\n",
        "\\nabla_w \\left( \\frac{\\lambda}{2} w^T K w \\right) = \\lambda K w.\n",
        "$$\n",
        "\n",
        "Итоговый градиент:\n",
        "$$\n",
        "\\nabla_w Q(w) = K (K w - y) + \\lambda K w.\n",
        "$$\n",
        "\n",
        "### Вывод градиента с учётом свободного коэффициента \\( b \\)\n",
        "\n",
        "Функция потерь с \\( b \\):\n",
        "$$\n",
        "Q(w, b) = \\frac{1}{2} \\| K w + b \\mathbf{1} - y \\|^2 + \\frac{\\lambda}{2} w^T K w.\n",
        "$$\n",
        "\n",
        "Градиент по \\( w \\):\n",
        "\n",
        "$$\n",
        "\\nabla_w \\left( \\frac{1}{2} \\| K w + b \\mathbf{1} - y \\|^2 \\right) = K (K w + b \\mathbf{1} - y).\n",
        "$$\n",
        "\n",
        "\n",
        "Градиент по \\( b \\):\n",
        "\n",
        "$$\n",
        "\\frac{\\partial}{\\partial b} \\left( \\frac{1}{2} \\| K w + b \\mathbf{1} - y \\|^2 \\right) = \\mathbf{1}^T (K w + b \\mathbf{1} - y).\n",
        "$$\n",
        "\n",
        "ИТОГ\n",
        "\n",
        "Без свободного коэффициента:\n",
        "$$\n",
        "\\nabla_w Q(w)\n",
        "=\n",
        "K (K w - y)\n",
        "+\n",
        "\\lambda K w.\n",
        "$$\n",
        "\n",
        "С учетом свободного коэффициента b:\n",
        "\n",
        "$$\n",
        "\\begin{aligned}\n",
        "\\nabla_w Q(w,b)\n",
        "&=\n",
        "K (K w + b\\,\\mathbf{1} - y) + \\lambda K w, \\\\[6pt]\n",
        "\\frac{\\partial Q(w,b)}{\\partial b}\n",
        "&=\n",
        "\\mathbf{1}^\\top (K w + b\\,\\mathbf{1} - y).\n",
        "\\end{aligned}\n",
        "$$\n",
        "\n"
      ]
    }
  ],
  "metadata": {
    "colab": {
      "provenance": []
    },
    "kernelspec": {
      "display_name": "Python 3",
      "name": "python3"
    },
    "language_info": {
      "codemirror_mode": {
        "name": "ipython",
        "version": 3
      },
      "file_extension": ".py",
      "mimetype": "text/x-python",
      "name": "python",
      "nbconvert_exporter": "python",
      "pygments_lexer": "ipython3",
      "version": "3.12.7"
    }
  },
  "nbformat": 4,
  "nbformat_minor": 0
}
